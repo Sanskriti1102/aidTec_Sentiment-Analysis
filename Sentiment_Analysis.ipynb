{
  "nbformat": 4,
  "nbformat_minor": 0,
  "metadata": {
    "colab": {
      "provenance": []
    },
    "kernelspec": {
      "name": "python3",
      "display_name": "Python 3"
    },
    "language_info": {
      "name": "python"
    }
  },
  "cells": [
    {
      "cell_type": "code",
      "source": [
        "# Task :- Sentiment Analysis"
      ],
      "metadata": {
        "id": "OcU0Iz_S93l-"
      },
      "execution_count": null,
      "outputs": []
    },
    {
      "cell_type": "code",
      "source": [
        "import nltk\n",
        "from nltk.sentiment.vader import SentimentIntensityAnalyzer"
      ],
      "metadata": {
        "id": "lQ_RrMSuu_Th"
      },
      "execution_count": null,
      "outputs": []
    },
    {
      "cell_type": "code",
      "source": [
        "nltk.download('vader_lexicon')"
      ],
      "metadata": {
        "colab": {
          "base_uri": "https://localhost:8080/"
        },
        "id": "N0a0PJdTbAfa",
        "outputId": "6ee9faef-5515-4146-dda2-8176bf32a557"
      },
      "execution_count": null,
      "outputs": [
        {
          "output_type": "stream",
          "name": "stderr",
          "text": [
            "[nltk_data] Downloading package vader_lexicon to /root/nltk_data...\n"
          ]
        },
        {
          "output_type": "execute_result",
          "data": {
            "text/plain": [
              "True"
            ]
          },
          "metadata": {},
          "execution_count": 2
        }
      ]
    },
    {
      "cell_type": "code",
      "source": [
        "# Initialize the VADER sentiment intensity analyzer\n",
        "analyzer = SentimentIntensityAnalyzer()\n",
        "\n",
        "print(\"<------- SENTIMENT ANALYSIS ------->\")\n",
        "# Sample text for sentiment analysis\n",
        "text = str(input(\"Enter the text you wanna write :\"))\n",
        "\n",
        "# Calculate sentiment scores\n",
        "SentimentScores = analyzer.polarity_scores(text)\n",
        "\n",
        "# Interpret sentiment scores\n",
        "CompoundScore = SentimentScores['compound']\n",
        "\n",
        "if CompoundScore >= 0.05:\n",
        "    sentiment = 'Positive'\n",
        "elif CompoundScore <= -0.05:\n",
        "    sentiment = 'Negative'\n",
        "else:\n",
        "    sentiment = 'Neutral'\n",
        "\n",
        "# Display sentiment analysis results\n",
        "print(\"<------- SENTIMENT ANALYSIS RESULTS ------->\")\n",
        "print(f\"Sentiment: {SentimentScores}\\nCompound Score: {CompoundScore}\\nPositive Score: {SentimentScores['pos']}\\nNegative Score: {SentimentScores['neg']}\\nNeutral Score: {SentimentScores['neu']}\")\n"
      ],
      "metadata": {
        "id": "vpZHneuZu_V9",
        "colab": {
          "base_uri": "https://localhost:8080/"
        },
        "outputId": "9994a56c-0864-4364-fa68-aecc332523d6"
      },
      "execution_count": null,
      "outputs": [
        {
          "output_type": "stream",
          "name": "stdout",
          "text": [
            "<------- SENTIMENT ANALYSIS ------->\n",
            "Enter the text you wanna write :This is extremely bad Soni, very dissapointing.\n",
            "<------- SENTIMENT ANALYSIS RESULTS ------->\n",
            "Sentiment: {'neg': 0.387, 'neu': 0.613, 'pos': 0.0, 'compound': -0.5849}\n",
            "Compound Score: -0.5849\n",
            "Positive Score: 0.0\n",
            "Negative Score: 0.387\n",
            "Neutral Score: 0.613\n"
          ]
        }
      ]
    },
    {
      "cell_type": "code",
      "source": [],
      "metadata": {
        "id": "GusYE-KBu_rC"
      },
      "execution_count": null,
      "outputs": []
    }
  ]
}