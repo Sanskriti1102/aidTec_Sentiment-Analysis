{
  "nbformat": 4,
  "nbformat_minor": 0,
  "metadata": {
    "colab": {
      "provenance": []
    },
    "kernelspec": {
      "name": "python3",
      "display_name": "Python 3"
    },
    "language_info": {
      "name": "python"
    }
  },
  "cells": [
    {
      "cell_type": "code",
      "source": [
        "# Task :- Sentiment Analysis"
      ],
      "metadata": {
        "id": "OcU0Iz_S93l-"
      },
      "execution_count": null,
      "outputs": []
    },
    {
      "cell_type": "code",
      "source": [
        "import nltk\n",
        "from nltk.sentiment.vader import SentimentIntensityAnalyzer"
      ],
      "metadata": {
        "id": "lQ_RrMSuu_Th"
      },
      "execution_count": null,
      "outputs": []
    },
    {
      "cell_type": "code",
      "source": [
        "# Initialize the VADER sentiment intensity analyzer\n",
        "analyzer = SentimentIntensityAnalyzer()\n",
        "\n",
        "print(\"<------- SENTIMENT ANALYSIS ------->\")\n",
        "# Sample text for sentiment analysis\n",
        "text = str(input(\"Enter the text you wanna write :\"))\n",
        "\n",
        "# Calculate sentiment scores\n",
        "SentimentScores = analyzer.polarity_scores(text)\n",
        "\n",
        "# Interpret sentiment scores\n",
        "CompoundScore = SentimentScores['compound']\n",
        "\n",
        "if CompoundScore >= 0.05:\n",
        "    sentiment = 'Positive'\n",
        "elif CompoundScore <= -0.05:\n",
        "    sentiment = 'Negative'\n",
        "else:\n",
        "    sentiment = 'Neutral'\n",
        "\n",
        "# Display sentiment analysis results\n",
        "print(\"<------- SENTIMENT ANALYSIS RESULTS ------->\")\n",
        "print(f\"Sentiment: {SentimentScores}\\nCompound Score: {CompoundScore}\\nPositive Score: {SentimentScores['pos']}\\nNegative Score: {SentimentScores['neg']}\\nNeutral Score: {SentimentScores['neu']}\")\n"
      ],
      "metadata": {
        "id": "vpZHneuZu_V9",
        "colab": {
          "base_uri": "https://localhost:8080/"
        },
        "outputId": "a0f4fb72-86bf-4837-98e6-969137946502"
      },
      "execution_count": null,
      "outputs": [
        {
          "output_type": "stream",
          "name": "stdout",
          "text": [
            "<------- SENTIMENT ANALYSIS ------->\n",
            "Enter the text you wanna write :I'm extremely disappointed with the poor quality of this product. It's a complete waste of money\n",
            "<------- SENTIMENT ANALYSIS RESULTS ------->\n",
            "Sentiment: {'neg': 0.436, 'neu': 0.564, 'pos': 0.0, 'compound': -0.8516}\n",
            "Compound Score: -0.8516\n",
            "Positive Score: 0.0\n",
            "Negative Score: 0.436\n",
            "Neutral Score: 0.564\n"
          ]
        }
      ]
    },
    {
      "cell_type": "code",
      "source": [],
      "metadata": {
        "id": "GusYE-KBu_rC"
      },
      "execution_count": null,
      "outputs": []
    }
  ]
}